{
 "cells": [
  {
   "cell_type": "code",
   "execution_count": 1,
   "id": "ffbceb6d-ad41-432c-85a5-84eca6eb6f49",
   "metadata": {},
   "outputs": [],
   "source": [
    "# Importing the essential libraries\n",
    "import pandas as pd\n",
    "from sqlalchemy import create_engine\n",
    "from urllib.parse import quote_plus\n",
    "\n"
   ]
  },
  {
   "cell_type": "code",
   "execution_count": 2,
   "id": "4df76a62-bf50-4850-95b1-d73543d56e9d",
   "metadata": {},
   "outputs": [
    {
     "name": "stdout",
     "output_type": "stream",
     "text": [
      "            account     sector  year_established  revenue  employees  \\\n",
      "0  Acme Corporation  technolgy              1996  1100.04       2822   \n",
      "1        Betasoloin    medical              1999   251.41        495   \n",
      "2          Betatech    medical              1986   647.18       1185   \n",
      "3        Bioholding    medical              2012   587.34       1356   \n",
      "4           Bioplex    medical              1991   326.82       1016   \n",
      "\n",
      "  office_location  \n",
      "0   United States  \n",
      "1   United States  \n",
      "2           Kenya  \n",
      "3      Philipines  \n",
      "4   United States  \n",
      "Data has been successfully loaded into the SQL table.\n"
     ]
    }
   ],
   "source": [
    "# Load the CSV file into a pandas DataFrame\n",
    "csv_file_path = r\"C:\\Users\\harpr\\OneDrive\\Desktop\\Construct Folder 2\\dataset_folder\\accounts.csv\"  # Use a raw string (r\"\") for file paths on Windows\n",
    "df = pd.read_csv(csv_file_path)\n",
    "# Remove extra columns from DataFrame\n",
    "df = df[['account', 'sector', 'year_established', 'revenue','employees','office_location']]  # adjust with columns in your SQL table\n",
    "\n",
    "\n",
    "# Display the DataFrame to confirm the data loaded correctly\n",
    "print(df.head())\n",
    "\n",
    "# Replace with your actual database connection details\n",
    "username = 'your_user'  # Login User\n",
    "password = 'your_password'  # Your password with special characters\n",
    "\n",
    "# URL-encode the password\n",
    "encoded_password = quote_plus(password)\n",
    "\n",
    "host = 'yourhost'            # Host\n",
    "port = 'your_port'                 # Port\n",
    "database_name = 'Your_database'   # Database name\n",
    "\n",
    "# Create the connection string\n",
    "connection_string = f'mysql+pymysql://{username}:{encoded_password}@{host}:{port}/{database_name}'\n",
    "\n",
    "# Create an engine to connect to the MySQL database\n",
    "engine = create_engine(connection_string)\n",
    "\n",
    "# Define the table name where you want to load the data\n",
    "table_name = 'accounts'\n",
    "\n",
    "# Load the DataFrame into the MySQL table\n",
    "df.to_sql(name=table_name, con=engine, if_exists='append', index=False)\n",
    "\n",
    "print(\"Data has been successfully loaded into the SQL table.\")\n"
   ]
  },
  {
   "cell_type": "code",
   "execution_count": 11,
   "id": "5f86259e-5ccc-4569-bf1e-6dab38b71537",
   "metadata": {},
   "outputs": [
    {
     "name": "stdout",
     "output_type": "stream",
     "text": [
      "        product series  sales_price\n",
      "0     GTX Basic    GTX          550\n",
      "1       GTX Pro    GTX         4821\n",
      "2    MG Special     MG           55\n",
      "3   MG Advanced     MG         3393\n",
      "4  GTX Plus Pro    GTX         5482\n",
      "Data has been successfully loaded into the SQL table.\n"
     ]
    }
   ],
   "source": [
    "\n",
    "# Load the CSV file into a pandas DataFrame\n",
    "csv_file_path = r\"C:\\Users\\harpr\\OneDrive\\Desktop\\Construct Folder 2\\dataset_folder\\products.csv\"\n",
    "\n",
    "df = pd.read_csv(csv_file_path)\n",
    "\n",
    "# Display the DataFrame to confirm the data loaded correctly\n",
    "print(df.head())\n",
    "\n",
    "# Replace with your actual database connection details\n",
    "username = 'your_user'  # Login User\n",
    "password = 'your_password'  # Your password with special characters\n",
    "\n",
    "# URL-encode the password\n",
    "encoded_password = quote_plus(password)\n",
    "\n",
    "host = 'yourhost'            # Host\n",
    "port = 'your_port'                 # Port\n",
    "database_name = 'Your_database'   # Database name\n",
    "\n",
    "# Create the connection string\n",
    "connection_string = f'mysql+pymysql://{username}:{encoded_password}@{host}:{port}/{database_name}'\n",
    "\n",
    "# Create an engine to connect to the MySQL database\n",
    "engine = create_engine(connection_string)\n",
    "\n",
    "# Define the table name where you want to load the data\n",
    "table_name = 'products'\n",
    "\n",
    "# Load the DataFrame into the MySQL table\n",
    "df.to_sql(name=table_name, con=engine, if_exists='append', index=False)\n",
    "\n",
    "print(\"Data has been successfully loaded into the SQL table.\")\n"
   ]
  },
  {
   "cell_type": "code",
   "execution_count": 13,
   "id": "38c2615e-0496-431a-98b1-dff6c479ae83",
   "metadata": {},
   "outputs": [
    {
     "name": "stdout",
     "output_type": "stream",
     "text": [
      "  opportunity_id      sales_agent         product  account deal_stage  \\\n",
      "0       1C1I7A6R      Moses Frase  GTX Plus Basic  Cancity        Won   \n",
      "1       Z063OYW0  Darcel Schlecht          GTXPro    Isdom        Won   \n",
      "2       EC4QE1BX  Darcel Schlecht      MG Special  Cancity        Won   \n",
      "3       MV1LWRNH      Moses Frase       GTX Basic  Codehow        Won   \n",
      "4       PE84CX4O        Zane Levy       GTX Basic   Hatfan        Won   \n",
      "\n",
      "  engage_date  close_date  close_value  \n",
      "0  2016-10-20  2017-03-01       1054.0  \n",
      "1  2016-10-25  2017-03-11       4514.0  \n",
      "2  2016-10-25  2017-03-07         50.0  \n",
      "3  2016-10-25  2017-03-09        588.0  \n",
      "4  2016-10-25  2017-03-02        517.0  \n",
      "Data has been successfully loaded into the SQL table.\n"
     ]
    }
   ],
   "source": [
    "\n",
    "# Load the CSV file into a pandas DataFrame\n",
    "csv_file_path = r\"C:\\Users\\harpr\\OneDrive\\Desktop\\Construct Folder 2\\dataset_folder\\sales_pipeline.csv\"\n",
    "\n",
    "df = pd.read_csv(csv_file_path)\n",
    "\n",
    "# Display the DataFrame to confirm the data loaded correctly\n",
    "print(df.head())\n",
    "\n",
    "# Replace with your actual database connection details\n",
    "username = 'your_user'  # Login User\n",
    "password = 'your_password'  # Your password with special characters\n",
    "\n",
    "# URL-encode the password\n",
    "encoded_password = quote_plus(password)\n",
    "\n",
    "host = 'yourhost'            # Host\n",
    "port = 'your_port'                 # Port\n",
    "database_name = 'Your_database'   # Database name\n",
    "# Create the connection string\n",
    "connection_string = f'mysql+pymysql://{username}:{encoded_password}@{host}:{port}/{database_name}'\n",
    "\n",
    "# Create an engine to connect to the MySQL database\n",
    "engine = create_engine(connection_string)\n",
    "\n",
    "# Define the table name where you want to load the data\n",
    "table_name = 'sales_pipeline'\n",
    "\n",
    "# Load the DataFrame into the MySQL table\n",
    "df.to_sql(name=table_name, con=engine, if_exists='append', index=False)\n",
    "\n",
    "print(\"Data has been successfully loaded into the SQL table.\")"
   ]
  },
  {
   "cell_type": "code",
   "execution_count": 14,
   "id": "d1e57796-5cdb-430a-8e6a-3cae9707993f",
   "metadata": {},
   "outputs": [
    {
     "name": "stdout",
     "output_type": "stream",
     "text": [
      "         sales_agent           manager regional_office\n",
      "0      Anna Snelling  Dustin Brinkmann         Central\n",
      "1     Cecily Lampkin  Dustin Brinkmann         Central\n",
      "2  Versie Hillebrand  Dustin Brinkmann         Central\n",
      "3    Lajuana Vencill  Dustin Brinkmann         Central\n",
      "4        Moses Frase  Dustin Brinkmann         Central\n",
      "Data has been successfully loaded into the SQL table.\n"
     ]
    }
   ],
   "source": [
    "\n",
    "# Load the CSV file into a pandas DataFrame\n",
    "csv_file_path = r\"C:\\Users\\harpr\\OneDrive\\Desktop\\Construct Folder 2\\dataset_folder\\sales_teams.csv\"\n",
    "\n",
    "df = pd.read_csv(csv_file_path)\n",
    "\n",
    "# Display the DataFrame to confirm the data loaded correctly\n",
    "print(df.head())\n",
    "\n",
    "# Replace with your actual database connection details\n",
    "username = 'your_user'  # Login User\n",
    "password = 'your_password'  # Your password with special characters\n",
    "\n",
    "# URL-encode the password\n",
    "encoded_password = quote_plus(password)\n",
    "\n",
    "host = 'yourhost'            # Host\n",
    "port = 'your_port'                 # Port\n",
    "database_name = 'Your_database'   # Database name\n",
    "\n",
    "# Create the connection string\n",
    "connection_string = f'mysql+pymysql://{username}:{encoded_password}@{host}:{port}/{database_name}'\n",
    "\n",
    "# Create an engine to connect to the MySQL database\n",
    "engine = create_engine(connection_string)\n",
    "\n",
    "# Define the table name where you want to load the data\n",
    "table_name = 'sales_team'\n",
    "\n",
    "# Load the DataFrame into the MySQL table\n",
    "df.to_sql(name=table_name, con=engine, if_exists='append', index=False)\n",
    "\n",
    "print(\"Data has been successfully loaded into the SQL table.\")"
   ]
  },
  {
   "cell_type": "code",
   "execution_count": null,
   "id": "a052f839-df90-4dca-8a14-fb69b18b881f",
   "metadata": {},
   "outputs": [],
   "source": []
  }
 ],
 "metadata": {
  "kernelspec": {
   "display_name": "Python 3 (ipykernel)",
   "language": "python",
   "name": "python3"
  },
  "language_info": {
   "codemirror_mode": {
    "name": "ipython",
    "version": 3
   },
   "file_extension": ".py",
   "mimetype": "text/x-python",
   "name": "python",
   "nbconvert_exporter": "python",
   "pygments_lexer": "ipython3",
   "version": "3.12.4"
  }
 },
 "nbformat": 4,
 "nbformat_minor": 5
}
